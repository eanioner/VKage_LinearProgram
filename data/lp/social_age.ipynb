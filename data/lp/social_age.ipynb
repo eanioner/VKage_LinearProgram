{
 "cells": [
  {
   "cell_type": "code",
   "execution_count": 1,
   "metadata": {
    "collapsed": false
   },
   "outputs": [],
   "source": [
    "import numpy as np\n",
    "import pandas as pd\n",
    "\n",
    "import networkx as nx\n",
    "import matplotlib.pyplot as plt\n",
    "\n",
    "from sklearn.externals import joblib\n",
    "from sklearn import linear_model, svm\n",
    "from sklearn.cross_validation import train_test_split\n",
    "from sklearn.grid_search import GridSearchCV\n",
    "from sklearn.preprocessing import StandardScaler, PolynomialFeatures\n",
    "from sklearn.metrics import roc_auc_score\n",
    "from sklearn.pipeline import Pipeline\n",
    "from scipy.special import expit\n",
    "\n",
    "import datetime\n",
    "import random\n",
    "\n",
    "%matplotlib inline\n",
    "plt.rcParams['figure.figsize'] = (10, 6)"
   ]
  },
  {
   "cell_type": "markdown",
   "metadata": {},
   "source": [
    "# 1. Читаем граф\n",
    "\n",
    "Различные графы лежат в `data/graph`. Граф задан списком ребер, на каждой строке описывается ребро:\n",
    "> 12 13 64\n",
    "\n",
    "Первое и второе число `id` пользователя, третье - аттрибут ребра. "
   ]
  },
  {
   "cell_type": "code",
   "execution_count": 7,
   "metadata": {
    "collapsed": false
   },
   "outputs": [],
   "source": [
    "def read_edges(f):        \n",
    "    with codecs.open(f, 'r', encoding='utf-8') as fd:           \n",
    "        edges = [tuple(int(x) for x in line.strip().split(' ')) for line in fd]\n",
    "    \n",
    "    return edges  \n",
    "\n",
    "\n",
    "def make_graph(f):\n",
    "    edges = read_edges(f)\n",
    "    users = sorted(set([x1 for (f, t, w) in edges for x1 in (f, t)]))\n",
    "    users = dict(zip(users, range(len(users))))\n",
    "\n",
    "    edges = [(users[f], users[t], {'attr': w}) for (f, t, w) in edges]\n",
    "    G = nx.Graph()\n",
    "    G.add_edges_from(edges)\n",
    "    \n",
    "    return G, users"
   ]
  },
  {
   "cell_type": "code",
   "execution_count": 3,
   "metadata": {
    "collapsed": true
   },
   "outputs": [],
   "source": [
    "def calc_common_friends(G):\n",
    "    common_friends = dict()\n",
    "    for f, t in G.edges():\n",
    "        if f < t:\n",
    "            fr1 = set(G.neighbors(f))\n",
    "            fr2 = set(G.neighbors(t))\n",
    "            common_friends[(f, t)] = len(fr1 & fr2)\n",
    "            \n",
    "    return common_friends"
   ]
  },
  {
   "cell_type": "code",
   "execution_count": 8,
   "metadata": {
    "collapsed": false
   },
   "outputs": [],
   "source": [
    "import codecs\n",
    "\n",
    "G, users = make_graph('data/graph/11858037.txt')\n",
    "common_friends = calc_common_friends(G)        "
   ]
  },
  {
   "cell_type": "markdown",
   "metadata": {},
   "source": [
    "Тут читаем файлы с демографическими данными пользователей"
   ]
  },
  {
   "cell_type": "code",
   "execution_count": 48,
   "metadata": {
    "collapsed": false
   },
   "outputs": [],
   "source": [
    "def read_demography(path, users):\n",
    "    import glob, os\n",
    "    all_files = glob.glob(os.path.join(path, \"part-*\")) \n",
    "    df = pd.concat((pd.read_csv(f, sep='\\t', header=None) for f in all_files))\n",
    "                   \n",
    "    df.columns = ['user', 'create_date', 'birth_date', 'gender', 'country', 'loc', 'reg']\n",
    "    df = df[df['user'].map(lambda x: x in users)]\n",
    "\n",
    "    epoch = datetime.datetime.fromtimestamp(0)\n",
    "    delta = datetime.timedelta(1)\n",
    "    \n",
    "    df['user'] = df['user'].map(lambda x: users[x])\n",
    "    df['birth_date'] = df['birth_date'].map(lambda x: (epoch + int(x) * delta) if x == x else np.nan)\n",
    "    df['birth_year'] = df[df['birth_date'].notnull()]['birth_date'].map(lambda x: x.year)\n",
    "    df = df.set_index('user').sort_index()\n",
    "    \n",
    "    return df"
   ]
  },
  {
   "cell_type": "code",
   "execution_count": 49,
   "metadata": {
    "collapsed": false
   },
   "outputs": [],
   "source": [
    "demography = read_demography('data/demography/', users)"
   ]
  },
  {
   "cell_type": "markdown",
   "metadata": {},
   "source": [
    "# 2.  Обучение similarity между пользователями"
   ]
  },
  {
   "cell_type": "markdown",
   "metadata": {},
   "source": [
    "В функцию передается граф и данные по демографии. На выходе получается функция, которая по ребку выдает вектор с признаками. Последний элемент вектора - целевое значение. "
   ]
  },
  {
   "cell_type": "code",
   "execution_count": 52,
   "metadata": {
    "collapsed": false
   },
   "outputs": [],
   "source": [
    "def features_factory(G, demography):\n",
    "    common_friends = calc_common_friends(G)\n",
    "    \n",
    "    def test_bit(int_type, offset):\n",
    "        mask = 1 << offset\n",
    "        return bool(int_type & mask)\n",
    "    \n",
    "    def features_for_edge(edge):\n",
    "        (f, t, w) = edge\n",
    "        common = np.log(common_friends[(f, t)] + 1)\n",
    "\n",
    "        if (f in demography.index) and (t in demography.index):\n",
    "            (dem_f, dem_t) = demography.ix[f], demography.ix[t]\n",
    "            is_same_year = np.abs(dem_f['birth_year'] - dem_t['birth_year']) < 2\n",
    "            is_same_gender = dem_f['gender'] == dem_t['gender']\n",
    "            is_same_loc = dem_f['loc'] == dem_t['loc']\n",
    "        else:\n",
    "            is_same_year = False\n",
    "            is_same_gender = False\n",
    "            is_same_loc = False\n",
    "\n",
    "        is_same_univ = test_bit(w, 10) or test_bit(w, 14)\n",
    "        is_relative = (test_bit(w, 3) or test_bit(w, 4) or test_bit(w, 18) \n",
    "                     or test_bit(w, 19) or test_bit(w, 12) or test_bit(w, 13))\n",
    "        is_love = test_bit(w, 1)\n",
    "        is_colleague = test_bit(w, 9)\n",
    "\n",
    "        return [float (x) for x in [common, is_same_gender, is_same_loc, is_same_univ, is_relative, is_love]] + \\\n",
    "               [int(is_same_year)]\n",
    "        \n",
    "    return features_for_edge"
   ]
  },
  {
   "cell_type": "markdown",
   "metadata": {},
   "source": [
    "**NB!** три следующие ячейки не запускать, в репозитории лежит уже натренированная модель"
   ]
  },
  {
   "cell_type": "markdown",
   "metadata": {},
   "source": [
    "Подготавливаем данные"
   ]
  },
  {
   "cell_type": "code",
   "execution_count": 58,
   "metadata": {
    "collapsed": false
   },
   "outputs": [],
   "source": [
    "edges_to_train = []\n",
    "\n",
    "for (f, t, w) in G.edges_iter(data=True):\n",
    "    if (f in demography.index) and (t in demography.index):\n",
    "        edges_to_train.append((f, t, w['attr']))\n",
    "        \n",
    "random.shuffle(edges_to_train)    \n",
    "        \n",
    "feature_maker = features_factory(G, demography)\n",
    "data = np.asarray([feature_maker(edge) for edge in edges_to_train])\n",
    "\n",
    "X = data[:, :-1]\n",
    "y = data[:, -1]"
   ]
  },
  {
   "cell_type": "markdown",
   "metadata": {},
   "source": [
    "Обучаем (нужно добавить CV по параметру регуляризации)"
   ]
  },
  {
   "cell_type": "code",
   "execution_count": 63,
   "metadata": {
    "collapsed": false
   },
   "outputs": [
    {
     "data": {
      "text/plain": [
       "0.60091430771831622"
      ]
     },
     "execution_count": 63,
     "metadata": {},
     "output_type": "execute_result"
    }
   ],
   "source": [
    "clf = linear_model.LogisticRegression()\n",
    "pipeline = Pipeline([('scale', StandardScaler()), \n",
    "                     #('poly', PolynomialFeatures()),\n",
    "                     ('clf', clf)])\n",
    "\n",
    "X_train, X_test, y_train, y_test = train_test_split(X, y, test_size=0.3)\n",
    "pipeline.fit(X_train, y_train)\n",
    "y_predicted = pipeline.predict(X_test)\n",
    "\n",
    "roc_auc_score(y_test, y_predicted)\n",
    "              #expit(X_test @ clf.coef_.reshape((-1, 1)) + clf.intercept_[0]))"
   ]
  },
  {
   "cell_type": "markdown",
   "metadata": {},
   "source": [
    "Сохраняем полученное"
   ]
  },
  {
   "cell_type": "code",
   "execution_count": 64,
   "metadata": {
    "collapsed": false
   },
   "outputs": [
    {
     "data": {
      "text/plain": [
       "['data/linear_model.pkl',\n",
       " 'data/linear_model.pkl_01.npy',\n",
       " 'data/linear_model.pkl_02.npy',\n",
       " 'data/linear_model.pkl_03.npy',\n",
       " 'data/linear_model.pkl_04.npy',\n",
       " 'data/linear_model.pkl_05.npy',\n",
       " 'data/linear_model.pkl_06.npy',\n",
       " 'data/linear_model.pkl_07.npy']"
      ]
     },
     "execution_count": 64,
     "metadata": {},
     "output_type": "execute_result"
    }
   ],
   "source": [
    "from sklearn.externals import joblib\n",
    "\n",
    "joblib.dump(pipeline, 'data/linear_model.pkl') "
   ]
  },
  {
   "cell_type": "markdown",
   "metadata": {},
   "source": [
    "**NB!** отсюда можно запускать"
   ]
  },
  {
   "cell_type": "markdown",
   "metadata": {},
   "source": [
    "# 3. Реализуем определение возраста"
   ]
  },
  {
   "cell_type": "markdown",
   "metadata": {},
   "source": [
    "Делаем взвешиватель рёбер"
   ]
  },
  {
   "cell_type": "code",
   "execution_count": 65,
   "metadata": {
    "collapsed": true
   },
   "outputs": [],
   "source": [
    "def make_weighter(G, demography, model):\n",
    "    make_features = features_factory(G, demography)\n",
    "    \n",
    "    def weighter(edge):\n",
    "        features = np.array(make_features(edge)[:-1])\n",
    "        return expit(model.decision_function(features.reshape(1, -1))[0])\n",
    "   \n",
    "    return weighter "
   ]
  },
  {
   "cell_type": "markdown",
   "metadata": {},
   "source": [
    "Первый класс - реализация semisupervised learning. Второй - определение атрибутов. "
   ]
  },
  {
   "cell_type": "code",
   "execution_count": 66,
   "metadata": {
    "collapsed": false
   },
   "outputs": [],
   "source": [
    "class SemisupervisedClusterer(object):\n",
    "    def __init__(self):\n",
    "        pass\n",
    "        \n",
    "    def cluster(self, W, Y, alpha, sigma):            \n",
    "        diag = np.asarray(W.sum(axis=0)).ravel()\n",
    "        W_a = np.asarray(W)\n",
    "        W_a = W_a * np.power(diag, -sigma).reshape((-1, 1))\n",
    "        W_a = W_a * np.power(diag, sigma - 1.).reshape((1, -1))\n",
    "        \n",
    "        D = np.identity(len(W)) - alpha * W_a\n",
    "        Y = (1. - alpha) * Y\n",
    "  \n",
    "        F = np.linalg.solve(D, Y)\n",
    "        \n",
    "        return np.asarray(F)\n",
    "\n",
    "    \n",
    "class SemisupervisedSolver(object):\n",
    "    def __init__(self, G, demography, weighter):\n",
    "        self.G = G\n",
    "        self.demography = demography        \n",
    "        self.weighter = weighter\n",
    "\n",
    "    def prepare_matrices(self, labeled_nodes, year_to_id):\n",
    "        G = self.G\n",
    "        demography = self.demography\n",
    "        \n",
    "        labeled_nodes_set = set(labeled_nodes)\n",
    "\n",
    "        W = np.zeros((G.number_of_nodes(), G.number_of_nodes()))\n",
    "        Y = np.zeros((G.number_of_nodes(), len(year_to_id)))\n",
    "\n",
    "        for f, t, data in G.edges(data=True):\n",
    "            w = data['attr']\n",
    "            if f < t: \n",
    "                if (f in labeled_nodes_set) and (t in labeled_nodes_set):\n",
    "                    (year_f, year_t) = demography.ix[f]['birth_year'], demography.ix[t]['birth_year']\n",
    "                    diff = np.abs(year_f - year_t)\n",
    "                    W[t, f] = W[f, t] = 10. if diff < 5 else max(1. - diff / 10., 0.2) \n",
    "                else:\n",
    "                    W[t, f] = W[f, t] = max(3. * self.weighter((f, t, w)), 0.1) \n",
    "\n",
    "        for node in labeled_nodes:\n",
    "            birth_year = demography.ix[node]['birth_year']\n",
    "            Y[node, year_to_id[birth_year]] = 1.\n",
    "\n",
    "        return W, Y\n",
    "    \n",
    "    def predict(self, labeled_nodes, test_nodes):           \n",
    "        demography = self.demography\n",
    "        \n",
    "        years = sorted(set(demography.ix[labeled_nodes, 'birth_year']))\n",
    "        year_to_id = dict(zip(years, range(len(years))))\n",
    "        id_to_year = dict(enumerate(years))        \n",
    "        \n",
    "        W, Y = self.prepare_matrices(labeled_nodes, year_to_id)\n",
    "        clusterer = SemisupervisedClusterer()\n",
    "                \n",
    "        F = clusterer.cluster(W, Y, 0.75, 0.)\n",
    "        \n",
    "        predicted_years = np.array([id_to_year[x] for x in F[test_nodes].argmax(axis=1)])\n",
    "        real_years = np.array(demography.ix[test_nodes, 'birth_year'])\n",
    "        \n",
    "        return predicted_years, real_years"
   ]
  },
  {
   "cell_type": "markdown",
   "metadata": {},
   "source": [
    "Средний возраст среди друзей. Для сравнения."
   ]
  },
  {
   "cell_type": "code",
   "execution_count": 67,
   "metadata": {
    "collapsed": false
   },
   "outputs": [],
   "source": [
    "class MeanAmongFriendsSolver(object):\n",
    "    def __init__(self, G, demography):\n",
    "        self.G = G\n",
    "        self.demography = demography        \n",
    "\n",
    "    def predict(self, labeled_nodes, test_nodes):\n",
    "        G = self.G\n",
    "        demography = self.demography\n",
    "        labeled_nodes_set = set(labeled_nodes)\n",
    "        \n",
    "        avg = demography.ix[labeled_nodes, 'birth_year'].mean()\n",
    "        \n",
    "        predicted = []\n",
    "        for test_node in test_nodes:\n",
    "            lst = []\n",
    "            for neigbor in G.neighbors(test_node):\n",
    "                if neigbor in labeled_nodes_set:\n",
    "                     lst.append(demography.ix[neigbor, 'birth_year'])\n",
    "            predicted.append(np.mean(lst) if lst else avg) \n",
    "                 \n",
    "        real_years = np.array(self.demography.ix[test_nodes, 'birth_year'])\n",
    "        \n",
    "        return np.array(predicted), real_years"
   ]
  },
  {
   "cell_type": "markdown",
   "metadata": {},
   "source": [
    "Тесты:\n",
    "1. Из всех пользователеё случайно выбираем помеченные и непомеченные в заданной пропорции (`pcrt`).\n",
    "2. Запускаем процесс, смотрим что определили правильно и разницу.\n",
    "3. Повторяем процесс с п.1 десять раз, запоминая результаты"
   ]
  },
  {
   "cell_type": "code",
   "execution_count": 68,
   "metadata": {
    "collapsed": false
   },
   "outputs": [],
   "source": [
    "def prepare_tests(num, prct, demography):\n",
    "    tests = []\n",
    "    for i in range(num):\n",
    "        nodes_with_age = list(demography.index)\n",
    "        random.shuffle(nodes_with_age)\n",
    "\n",
    "        pivot = int(len(nodes_with_age) * prct)\n",
    "        labeled_nodes = nodes_with_age[:pivot]\n",
    "        test_nodes = nodes_with_age[pivot:]\n",
    "        \n",
    "        tests.append((labeled_nodes, test_nodes))\n",
    "        \n",
    "    return tests\n",
    "\n",
    "def do_test(solver, tests):\n",
    "    res_predicted = []\n",
    "    res_real = []\n",
    "    \n",
    "    for (labeled_nodes, test_nodes) in tests:\n",
    "        predicted, real = solver.predict(labeled_nodes, test_nodes)\n",
    "        res_predicted.append(predicted)\n",
    "        res_real.append(real)\n",
    "\n",
    "    return np.abs(np.array(res_predicted) - np.array(res_real))\n"
   ]
  },
  {
   "cell_type": "markdown",
   "metadata": {},
   "source": [
    "Собираем всё воедино"
   ]
  },
  {
   "cell_type": "code",
   "execution_count": 72,
   "metadata": {
    "collapsed": false
   },
   "outputs": [],
   "source": [
    "weighter = make_weighter(G, demography, joblib.load('data/similarity/linear_model.pkl'))\n",
    "\n",
    "solver_semsup = SemisupervisedSolver(G, demography, weighter)\n",
    "solver_avg = MeanAmongFriendsSolver(G, demography)\n",
    "\n",
    "tests = prepare_tests(10, 0.4, demography)\n",
    "\n",
    "r1 = do_test(solver_semsup, tests)\n",
    "r2 = do_test(solver_avg, tests)    "
   ]
  },
  {
   "cell_type": "markdown",
   "metadata": {},
   "source": [
    "Рисуем графики"
   ]
  },
  {
   "cell_type": "code",
   "execution_count": 73,
   "metadata": {
    "collapsed": false
   },
   "outputs": [
    {
     "data": {
      "text/plain": [
       "<matplotlib.legend.Legend at 0x12a9ea90>"
      ]
     },
     "execution_count": 73,
     "metadata": {},
     "output_type": "execute_result"
    },
    {
     "data": {
      "image/png": "[encoded data removed]",
      "text/plain": [
       "<matplotlib.figure.Figure at 0x12ab4748>"
      ]
     },
     "metadata": {},
     "output_type": "display_data"
    }
   ],
   "source": [
    "from sklearn.neighbors import KernelDensity\n",
    "\n",
    "def plot_kde(diff, label=''):\n",
    "    kde = KernelDensity()\n",
    "    kde.fit(diff.reshape((-1, 1)))\n",
    "    x = np.linspace(0, 100, 1000).reshape((-1, 1))\n",
    "    score = kde.score_samples(x)\n",
    "    \n",
    "    plt.xlabel('year')\n",
    "    \n",
    "    return plt.plot(x.ravel(), np.exp(score.ravel()), label=label)\n",
    "    \n",
    "plot_kde(r1, 'semsup')\n",
    "plot_kde(r2, 'avg')\n",
    "plt.legend()"
   ]
  },
  {
   "cell_type": "markdown",
   "metadata": {},
   "source": [
    "Тут из линейного программирование, пишет данные в формате lp. Работает долго. "
   ]
  },
  {
   "cell_type": "code",
   "execution_count": 93,
   "metadata": {
    "collapsed": false
   },
   "outputs": [],
   "source": [
    "import pulp\n",
    "\n",
    "class LinearProgrammingSolver(object):\n",
    "    def __init__(self, G, demography, labeled_nodes, \n",
    "                 weighter):\n",
    "        self.G = G\n",
    "        self.demography = demography\n",
    "        self.labeled_nodes = labeled_nodes\n",
    "        self.weighter = weighter\n",
    "        \n",
    "        years = sorted(set(demography.ix[labeled_nodes, 'birth_year']))\n",
    "        self.year_to_id = dict(zip(years, range(len(years))))\n",
    "        self.id_to_year = dict(enumerate(years))\n",
    "        \n",
    "    def prepare_lp(self):\n",
    "        G = self.G\n",
    "        year_to_id = self.year_to_id  \n",
    "        demography = self.demography\n",
    "        \n",
    "        labeled_nodes_set = set(self.labeled_nodes)\n",
    "        \n",
    "        num_labels = len(year_to_id)\n",
    "        num_edges = G.number_of_edges()\n",
    "        num_nodes = G.number_of_nodes()\n",
    "                \n",
    "        prob = pulp.LpProblem(\"Labelled graph problem\", pulp.LpMinimize)    \n",
    "        \n",
    "        x_pa = pulp.LpVariable.dicts('x_pa', [(node, label) for node in range(num_nodes) \n",
    "                                            for label in range(num_labels)],                                  \n",
    "                                  0., 1.)\n",
    "        \n",
    "        z_e = pulp.LpVariable.dicts('z_e', [edge for edge in range(num_edges)])\n",
    "        z_ea = pulp.LpVariable.dicts('z_ea', [(edge, label) for edge in range(num_edges) \n",
    "                                                for label in range(num_labels)])\n",
    "        \n",
    "        condition = 0\n",
    "        for node in G.nodes():\n",
    "            if node in labeled_nodes_set:\n",
    "                year = demography.ix[node]['birth_year']                \n",
    "                condition += pulp.lpSum([x_pa[(node, label)] for label in range(num_labels) \n",
    "                                              if year_to_id[year] != label])\n",
    "\n",
    "        for edge, (f, t, data) in enumerate(G.edges(data=True)):\n",
    "            w = data['attr']\n",
    "            if (f in labeled_nodes_set) and (t in labeled_nodes_set):\n",
    "                (year_f, year_t) = demography.ix[f]['birth_year'], demography.ix[t]['birth_year']\n",
    "                diff = np.abs(year_f - year_t)\n",
    "                condition += z_e[edge] * ( 10. if diff < 4 else np.max(1. - diff / 10., 0.2) )\n",
    "            else:\n",
    "                condition += z_e[edge] * self.weighter((f, t, w)) \n",
    "        \n",
    "        prob += condition \n",
    "        for node in G.nodes():\n",
    "            prob += (pulp.lpSum([x_pa[(node, label)] for label in range(num_labels)]) == 1.)\n",
    "                \n",
    "        for edge, (f, t) in enumerate(G.edges()):\n",
    "            prob += (0.5 * pulp.lpSum([z_ea[(edge, label)] for label in range(num_labels)]) == z_e[edge])\n",
    "            \n",
    "            for label in range(num_labels):\n",
    "                prob += (z_ea[(edge, label)] >= x_pa[(f, label)] - x_pa[(t, label)])\n",
    "                prob += (z_ea[(edge, label)] >= x_pa[(t, label)] - x_pa[(f, label)])\n",
    "        \n",
    "        \n",
    "        return prob \n",
    "    #prob.writeLP(\"problem.lp\")"
   ]
  },
  {
   "cell_type": "code",
   "execution_count": 94,
   "metadata": {
    "collapsed": false
   },
   "outputs": [],
   "source": [
    "lp_p = LinearProgrammingSolver(G, demography, tests[0][0], weighter)\n",
    "aaaa = lp_p.prepare_lp()"
   ]
  },
  {
   "cell_type": "code",
   "execution_count": null,
   "metadata": {
    "collapsed": true
   },
   "outputs": [],
   "source": [
    "aaaa.solve()"
   ]
  },
  {
   "cell_type": "code",
   "execution_count": 90,
   "metadata": {
    "collapsed": false
   },
   "outputs": [
    {
     "ename": "TypeError",
     "evalue": "unbound method solve() must be called with LpProblem instance as first argument (got str instance instead)",
     "output_type": "error",
     "traceback": [
      "\u001b[1;31m---------------------------------------------------------------------------\u001b[0m",
      "\u001b[1;31mTypeError\u001b[0m                                 Traceback (most recent call last)",
      "\u001b[1;32m<ipython-input-90-a8eaac70287f>\u001b[0m in \u001b[0;36m<module>\u001b[1;34m()\u001b[0m\n\u001b[1;32m----> 1\u001b[1;33m \u001b[0mpulp\u001b[0m\u001b[1;33m.\u001b[0m\u001b[0mLpProblem\u001b[0m\u001b[1;33m.\u001b[0m\u001b[0msolve\u001b[0m\u001b[1;33m(\u001b[0m\u001b[1;34m\"problem.lp\"\u001b[0m\u001b[1;33m)\u001b[0m\u001b[1;33m\u001b[0m\u001b[0m\n\u001b[0m",
      "\u001b[1;31mTypeError\u001b[0m: unbound method solve() must be called with LpProblem instance as first argument (got str instance instead)"
     ]
    }
   ],
   "source": [
    "pulp.LpProblem.solve(aaaa)"
   ]
  }
 ],
 "metadata": {
  "kernelspec": {
   "display_name": "Python 2",
   "language": "python",
   "name": "python2"
  },
  "language_info": {
   "codemirror_mode": {
    "name": "ipython",
    "version": 2
   },
   "file_extension": ".py",
   "mimetype": "text/x-python",
   "name": "python",
   "nbconvert_exporter": "python",
   "pygments_lexer": "ipython2",
   "version": "2.7.11"
  }
 },
 "nbformat": 4,
 "nbformat_minor": 0
}
